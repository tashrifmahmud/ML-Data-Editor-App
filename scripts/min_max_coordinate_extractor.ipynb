{
 "cells": [
  {
   "cell_type": "code",
   "execution_count": 1,
   "metadata": {},
   "outputs": [],
   "source": [
    "import pandas as pd\n",
    "import os"
   ]
  },
  {
   "cell_type": "code",
   "execution_count": null,
   "metadata": {},
   "outputs": [
    {
     "name": "stdout",
     "output_type": "stream",
     "text": [
      "Summary CSV file created at Locations.csv\n"
     ]
    }
   ],
   "source": [
    "# Define the path to the Data folder\n",
    "data_folder_path = 'Data'\n",
    "\n",
    "# Initialize an empty list to store the results\n",
    "results = []\n",
    "\n",
    "# Walk through the Data folder and its subfolders\n",
    "for root, dirs, files in os.walk(data_folder_path):\n",
    "    for file in files:\n",
    "        if file.endswith('.csv'):\n",
    "            file_path = os.path.join(root, file)\n",
    "            df = pd.read_csv(file_path)\n",
    "            \n",
    "            # Extract the required information\n",
    "            x_min = df['Coord_X'].min()\n",
    "            x_max = df['Coord_X'].max()\n",
    "            y_min = df['Coord_Y'].min()\n",
    "            y_max = df['Coord_Y'].max()\n",
    "            \n",
    "            # Append the result to the list\n",
    "            results.append({\n",
    "                'file_name': file,\n",
    "                'file_path': file_path,\n",
    "                'x_min': x_min,\n",
    "                'x_max': x_max,\n",
    "                'y_min': y_min,\n",
    "                'y_max': y_max\n",
    "            })\n",
    "\n",
    "# Create a DataFrame from the results\n",
    "output_df = pd.DataFrame(results)\n",
    "\n",
    "# Output the DataFrame to a CSV file\n",
    "output_file_path = 'Locations.csv'\n",
    "output_df.to_csv(output_file_path, index=False)\n",
    "\n",
    "print(f\"Summary CSV file created at {output_file_path}\")"
   ]
  }
 ],
 "metadata": {
  "kernelspec": {
   "display_name": "myenv",
   "language": "python",
   "name": "python3"
  },
  "language_info": {
   "codemirror_mode": {
    "name": "ipython",
    "version": 3
   },
   "file_extension": ".py",
   "mimetype": "text/x-python",
   "name": "python",
   "nbconvert_exporter": "python",
   "pygments_lexer": "ipython3",
   "version": "3.13.1"
  }
 },
 "nbformat": 4,
 "nbformat_minor": 2
}
